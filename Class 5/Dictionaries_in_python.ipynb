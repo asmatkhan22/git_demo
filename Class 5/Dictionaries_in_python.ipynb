{
 "cells": [
  {
   "cell_type": "code",
   "execution_count": 1,
   "id": "baf84ae3-41e8-46f3-958f-ff8d57f6a289",
   "metadata": {},
   "outputs": [
    {
     "name": "stdout",
     "output_type": "stream",
     "text": [
      " i am engineer\n"
     ]
    }
   ],
   "source": [
    "print(\" i am engineer\")"
   ]
  },
  {
   "cell_type": "code",
   "execution_count": 7,
   "id": "87485a88-921c-45bd-ab5b-6837b6556fe6",
   "metadata": {},
   "outputs": [],
   "source": [
    "# Dictionaries what they are??"
   ]
  },
  {
   "cell_type": "code",
   "execution_count": 9,
   "id": "863c4aa1-fe3b-49a8-b396-f436cf4158fd",
   "metadata": {},
   "outputs": [],
   "source": [
    "#List collection of values, mutable\n",
    "#tuples(Collection of values, immutable )\n",
    "#Dictionary (Can hold multiple collection)\n",
    "3 key: name "
   ]
  },
  {
   "cell_type": "code",
   "execution_count": 11,
   "id": "1090a4be-f0ea-4032-b3eb-870fa986ecbc",
   "metadata": {},
   "outputs": [],
   "source": [
    "3dictionary of dictionary\n",
    "customer_786 = { \"f_name\": \"Qasim\", \n",
    "             \"l_name\": \"Hassan\"\n",
    "            \"address\": \"street_75,\n",
    "            \"order_price :220\"\n",
    "               \"\"}"
   ]
  },
  {
   "cell_type": "code",
   "execution_count": 13,
   "id": "ea78fd8d-c73b-4189-8649-0ddda304e26e",
   "metadata": {},
   "outputs": [
    {
     "name": "stdout",
     "output_type": "stream",
     "text": [
      "{'customer_786': {'fname': 'qasim', 'lname': 'hassan', 'address': 'flatno', 'order': 123}, 'customer_000': {'name': 'qasim', 'fname': 'hassan', 'order': 'flatno', 'id': 123}}\n"
     ]
    }
   ],
   "source": [
    "customer={\"customer_786\":{\"fname\":\"qasim\", \"lname\":\"hassan\", \"address\":\"flatno\",\"order\":123}, \"customer_000\":{\"name\":\"qasim\", \"fname\":\"hassan\", \"order\":\"flatno\",\"id\":123}}\n",
    "print(customer)"
   ]
  },
  {
   "cell_type": "code",
   "execution_count": 17,
   "id": "354b40c0-cab8-47cd-a4fe-d5e3a9510a71",
   "metadata": {},
   "outputs": [],
   "source": [
    "my_dictionary = { \"name\" : \"Qasim\", \n",
    "                 \"age\": 19,\n",
    "                 \"is_present\" : True}"
   ]
  },
  {
   "cell_type": "code",
   "execution_count": 23,
   "id": "69e5aa5d-ffe2-42f8-8ee9-c11cfe1ac709",
   "metadata": {},
   "outputs": [],
   "source": [
    "\n",
    "std_data= [\"Asif\",\"Qasim\",\"address xyz\",\"0300\"]"
   ]
  },
  {
   "cell_type": "code",
   "execution_count": 25,
   "id": "6eb905db-dc96-456e-9b62-b42ff88c9aba",
   "metadata": {},
   "outputs": [
    {
     "data": {
      "text/plain": [
       "['Asif', 'Qasim', 'address xyz', '0300']"
      ]
     },
     "execution_count": 25,
     "metadata": {},
     "output_type": "execute_result"
    }
   ],
   "source": [
    "std_data"
   ]
  },
  {
   "cell_type": "code",
   "execution_count": 27,
   "id": "d5b46d68-2caa-4bf6-b6ce-d48aa289e474",
   "metadata": {},
   "outputs": [
    {
     "data": {
      "text/plain": [
       "'address xyz'"
      ]
     },
     "execution_count": 27,
     "metadata": {},
     "output_type": "execute_result"
    }
   ],
   "source": [
    "std_data[2]"
   ]
  },
  {
   "cell_type": "code",
   "execution_count": 31,
   "id": "d8381c92-86fc-4b9e-a4ec-be08e3af1d22",
   "metadata": {},
   "outputs": [],
   "source": [
    "std_data_dict = {\n",
    "    \"key\":\"value\",\n",
    "    \"name\":\"Asif\",\n",
    "    \"Father name\":\"Qasim\",\n",
    "    \"Address\":\"xyz\",\n",
    "    \"phone\":\"0300\"\n",
    "    \n",
    "}\n"
   ]
  },
  {
   "cell_type": "code",
   "execution_count": 33,
   "id": "edbe8e7a-6846-48cc-9cf3-6290696bf09f",
   "metadata": {},
   "outputs": [
    {
     "data": {
      "text/plain": [
       "{'key': 'value',\n",
       " 'name': 'Asif',\n",
       " 'Father name': 'Qasim',\n",
       " 'Address': 'xyz',\n",
       " 'phone': '0300'}"
      ]
     },
     "execution_count": 33,
     "metadata": {},
     "output_type": "execute_result"
    }
   ],
   "source": [
    "std_data_dict"
   ]
  },
  {
   "cell_type": "code",
   "execution_count": 37,
   "id": "9fe1be11-918d-4a28-9974-423a5b64c700",
   "metadata": {},
   "outputs": [
    {
     "data": {
      "text/plain": [
       "dict_keys(['key', 'name', 'Father name', 'Address', 'phone'])"
      ]
     },
     "execution_count": 37,
     "metadata": {},
     "output_type": "execute_result"
    }
   ],
   "source": [
    "std_data_dict.keys()"
   ]
  },
  {
   "cell_type": "code",
   "execution_count": 39,
   "id": "e0f00d9c-f5f2-4db9-9b83-9ea5938584c7",
   "metadata": {},
   "outputs": [
    {
     "data": {
      "text/plain": [
       "'xyz'"
      ]
     },
     "execution_count": 39,
     "metadata": {},
     "output_type": "execute_result"
    }
   ],
   "source": [
    "std_data_dict[\"Address\"]"
   ]
  },
  {
   "cell_type": "code",
   "execution_count": 49,
   "id": "faf70b7a-2bac-4e6b-8a65-e738cfcb40d3",
   "metadata": {},
   "outputs": [],
   "source": [
    "#costamer_list_of_dict\n",
    "cust_detail= { \"fisrt_names\": [\"Asmat\", \"Asif\", \"Waseem\"],\n",
    "              \"last_name\" : [ \"khattak\", \"Kasi\" , \"khan\"],\n",
    "              \"address\" : [\"jackson\", \"colony\" , \"clifton\"],\n",
    "              \"order_price\": [\"20\", \"12\", \"30\"],\n",
    "              \"order_item\" : [\"cap\",\"bat\", \"pen\"]\n",
    "    \n",
    "}"
   ]
  },
  {
   "cell_type": "code",
   "execution_count": 51,
   "id": "0fd06c86-27d6-4c07-a9dc-5801ddb55700",
   "metadata": {},
   "outputs": [
    {
     "name": "stdout",
     "output_type": "stream",
     "text": [
      "Asmat khattak jackson 20 cap \n",
      "Asif Kasi colony 12 bat \n",
      "Waseem khan clifton 30 pen \n"
     ]
    }
   ],
   "source": [
    "for i in range (3):\n",
    "    for key in cust_detail.keys():\n",
    "        print(cust_detail[key][i] ,end=\" \")\n",
    "    print()"
   ]
  },
  {
   "cell_type": "code",
   "execution_count": 51,
   "id": "baa16193-b24e-4f76-bbba-e3976fea0f24",
   "metadata": {},
   "outputs": [
    {
     "name": "stdout",
     "output_type": "stream",
     "text": [
      "Asmat khattak jackson 20 cap \n",
      "Asif Kasi colony 12 bat \n",
      "Waseem khan clifton 30 pen \n"
     ]
    }
   ],
   "source": [
    "for i in range (3):\n",
    "    for key in cust_detail.keys():\n",
    "        print(cust_detail[key][i] ,end=\" \")\n",
    "    print()"
   ]
  },
  {
   "cell_type": "markdown",
   "id": "bcdbf790-c5cf-46eb-bc80-a03db60c1022",
   "metadata": {},
   "source": [
    "# How to pick values from dictionaries"
   ]
  },
  {
   "cell_type": "markdown",
   "id": "08e1fea0-cad8-4838-a284-8339a2778530",
   "metadata": {},
   "source": [
    "# How to pick information out of list of dictionaries"
   ]
  },
  {
   "cell_type": "code",
   "execution_count": 58,
   "id": "b4529f71-f9ef-479a-88ca-6383cbcdfe89",
   "metadata": {},
   "outputs": [],
   "source": [
    "cust_detail= { \"fisrt_names\": [\"Asmat\", \"Asif\", \"Waseem\"],\n",
    "              \"last_name\" : [ \"khattak\", \"Kasi\" , \"khan\"],\n",
    "              \"address\" : [\"jackson\", \"colony\" , \"clifton\"],\n",
    "              \"order_price\": [\"20\", \"12\", \"30\"],\n",
    "              \"order_item\" : [\"cap\",\"bat\", \"pen\"]\n",
    "    \n",
    "}\n"
   ]
  },
  {
   "cell_type": "code",
   "execution_count": 60,
   "id": "5178952c-7b0b-4239-bbd8-853b5a739333",
   "metadata": {},
   "outputs": [
    {
     "ename": "SyntaxError",
     "evalue": "expression expected after dictionary key and ':' (3015853136.py, line 1)",
     "output_type": "error",
     "traceback": [
      "\u001b[1;36m  Cell \u001b[1;32mIn[60], line 1\u001b[1;36m\u001b[0m\n\u001b[1;33m    [{\"first_name\":,\u001b[0m\n\u001b[1;37m                  ^\u001b[0m\n\u001b[1;31mSyntaxError\u001b[0m\u001b[1;31m:\u001b[0m expression expected after dictionary key and ':'\n"
     ]
    }
   ],
   "source": [
    "[{\"first_name\": \"Asmat\",\n",
    " \"last_name\": \"khattak\",\n",
    " \"Address\": \"jakson\",\n",
    " \"order_price\": \"20\", \n",
    " \"order_item\" : \"\",\n",
    "    \n",
    "}\n",
    "]"
   ]
  },
  {
   "cell_type": "code",
   "execution_count": null,
   "id": "46dba40a-6582-443e-90e3-16899e38ab54",
   "metadata": {},
   "outputs": [],
   "source": []
  }
 ],
 "metadata": {
  "kernelspec": {
   "display_name": "Python 3 (ipykernel)",
   "language": "python",
   "name": "python3"
  },
  "language_info": {
   "codemirror_mode": {
    "name": "ipython",
    "version": 3
   },
   "file_extension": ".py",
   "mimetype": "text/x-python",
   "name": "python",
   "nbconvert_exporter": "python",
   "pygments_lexer": "ipython3",
   "version": "3.12.7"
  }
 },
 "nbformat": 4,
 "nbformat_minor": 5
}
